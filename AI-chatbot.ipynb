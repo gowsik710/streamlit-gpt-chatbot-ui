{
 "cells": [
  {
   "cell_type": "code",
   "execution_count": 26,
   "id": "b80db481-5d1c-4477-9dbb-92ac3b43d3f4",
   "metadata": {},
   "outputs": [],
   "source": [
    "# Libraries or Packages used\n",
    "import openai\n",
    "import streamlit as st"
   ]
  },
  {
   "cell_type": "code",
   "execution_count": 27,
   "id": "7c9befc9-2f1e-42dd-89f7-9f715b1a2ea0",
   "metadata": {},
   "outputs": [
    {
     "name": "stderr",
     "output_type": "stream",
     "text": [
      "2025-05-21 18:46:37.530 \n",
      "  \u001b[33m\u001b[1mWarning:\u001b[0m to view this Streamlit app on a browser, run it with the following\n",
      "  command:\n",
      "\n",
      "    streamlit run D:\\Anaconda\\Lib\\site-packages\\ipykernel_launcher.py [ARGUMENTS]\n",
      "2025-05-21 18:46:38.477 Session state does not function when running a script without `streamlit run`\n"
     ]
    }
   ],
   "source": [
    "# 🔐 Set your OpenAI API key\n",
    "openai.api_key = \"xxxxxxxxxxxxxxxxxxxxxxxxxxxxxxxxxxxxxxxxxxxxxxxxxxxxxxxxxxxxxxxxxxx\"  # Replace with your actual key\n",
    "\n",
    "# 🚀 Streamlit UI\n",
    "st.title(\"💬 Chat with Gowsik's AI\")\n",
    "\n",
    "# 🖼️ Show Messi image at the top\n",
    "st.image(\"messi.jpg\", width=200, caption=\"Lionel Messi 🐐\")\n",
    "\n",
    "# Initialize session state to store chat history\n",
    "if \"chat_history\" not in st.session_state:\n",
    "    st.session_state.chat_history = [\n",
    "        {\"role\": \"system\", \"content\": \"You are a helpful assistant.\"}\n",
    "    ]\n",
    "\n",
    "# 🧑 User input box\n",
    "user_input = st.chat_input(\"You:\")\n",
    "\n",
    "if user_input:\n",
    "    # Add user message\n",
    "    st.session_state.chat_history.append({\"role\": \"user\", \"content\": user_input})\n",
    "\n",
    "    # Call OpenAI API\n",
    "    response = openai.chat.completions.create(\n",
    "        model=\"gpt-3.5-turbo\",\n",
    "        messages=st.session_state.chat_history\n",
    "    )\n",
    "\n",
    "    # Extract the assistant reply\n",
    "    reply = response.choices[0].message.content\n",
    "\n",
    "    # Add assistant reply\n",
    "    st.session_state.chat_history.append({\"role\": \"assistant\", \"content\": reply})\n",
    "\n",
    "# 💬 Display the full conversation\n",
    "for message in st.session_state.chat_history[1:]:  # skip system role\n",
    "    st.markdown(f\"**{message['role'].capitalize()}:** {message['content']}\")\n"
   ]
  }
 ],
 "metadata": {
  "kernelspec": {
   "display_name": "Python 3 (ipykernel)",
   "language": "python",
   "name": "python3"
  },
  "language_info": {
   "codemirror_mode": {
    "name": "ipython",
    "version": 3
   },
   "file_extension": ".py",
   "mimetype": "text/x-python",
   "name": "python",
   "nbconvert_exporter": "python",
   "pygments_lexer": "ipython3",
   "version": "3.12.7"
  }
 },
 "nbformat": 4,
 "nbformat_minor": 5
}
